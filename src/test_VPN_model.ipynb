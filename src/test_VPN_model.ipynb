{
 "cells": [
  {
   "cell_type": "code",
   "execution_count": 8,
   "id": "f6e1f7fd-241e-4fec-9ca6-39fd547e93b3",
   "metadata": {},
   "outputs": [],
   "source": [
    "import platform\n",
    "import subprocess"
   ]
  },
  {
   "cell_type": "code",
   "execution_count": 15,
   "id": "5158db54-d449-4d4c-800f-de2386a94665",
   "metadata": {},
   "outputs": [],
   "source": [
    "class VPNConnector:\n",
    "    def connect(self, username, password, sudo_password):\n",
    "        system = platform.system()\n",
    "\n",
    "        if system == \"Linux\" or system == \"Darwin\":  # macOS = Darwin\n",
    "            cmd = [\"sudo\", \"-S\", \"openconnect\", \"vpn.zju.edu.cn/\", \"-u\", username, \"--passwd-on-stdin\"]\n",
    "        elif system == \"Windows\":\n",
    "            cmd = [\"C:\\\\Program Files\\\\Cisco AnyConnect\\\\vpncli.exe\", \"connect\", \"vpn.zju.edu.cn/\"]\n",
    "        else:\n",
    "            print(\"❌ 不支持的系统\")\n",
    "            return False\n",
    "\n",
    "        try:\n",
    "            proc = subprocess.Popen(\n",
    "                cmd,\n",
    "                stdin=subprocess.PIPE,\n",
    "                stdout=subprocess.PIPE,\n",
    "                stderr=subprocess.PIPE,\n",
    "                text=True\n",
    "            )\n",
    "            # 提供 sudo 密码 + VPN 密码\n",
    "            output, error = proc.communicate(f\"{sudo_password}\\n{password}\\n\")\n",
    "\n",
    "            if proc.returncode == 0:\n",
    "                print(\"✅ VPN 连接成功\")\n",
    "                return True\n",
    "            else:\n",
    "                print(f\"❌ 连接失败：{error}\")\n",
    "                return False\n",
    "        except Exception as e:\n",
    "            print(f\"⚠️ 异常：{str(e)}\")\n",
    "            return False"
   ]
  },
  {
   "cell_type": "code",
   "execution_count": 16,
   "id": "9dacf46c-12b1-4ef7-9c0b-e82e69221531",
   "metadata": {},
   "outputs": [
    {
     "name": "stdout",
     "output_type": "stream",
     "text": [
      "❌ 连接失败：Failed to connect to host vpn.zju.edu.cn\n",
      "Failed to open HTTPS connection to vpn.zju.edu.cn\n",
      "Failed to complete authentication\n",
      "\n",
      "测试结果: False\n"
     ]
    }
   ],
   "source": [
    "# 测试\n",
    "if __name__ == \"__main__\":\n",
    "    vpn = VPNConnector()\n",
    "    result = vpn.connect(\"12424117\", \"wzw1998928\", \"wzw1998928\")\n",
    "    print(\"测试结果:\", result)"
   ]
  },
  {
   "cell_type": "code",
   "execution_count": 19,
   "id": "52145e9f-f0cd-44d4-aa17-b7f945cc499c",
   "metadata": {},
   "outputs": [
    {
     "ename": "NoSuchElementException",
     "evalue": "Message: no such element: Unable to locate element: {\"method\":\"css selector\",\"selector\":\"[id=\"username\"]\"}\n  (Session info: chrome=134.0.6998.88); For documentation on this error, please visit: https://www.selenium.dev/documentation/webdriver/troubleshooting/errors#no-such-element-exception\nStacktrace:\n#0 0x55bc3b5dfa1a <unknown>\n#1 0x55bc3b097390 <unknown>\n#2 0x55bc3b0e8c85 <unknown>\n#3 0x55bc3b0e8eb1 <unknown>\n#4 0x55bc3b137d64 <unknown>\n#5 0x55bc3b10ebfd <unknown>\n#6 0x55bc3b13507b <unknown>\n#7 0x55bc3b10e9a3 <unknown>\n#8 0x55bc3b0da60e <unknown>\n#9 0x55bc3b0dbdd1 <unknown>\n#10 0x55bc3b5a5ddb <unknown>\n#11 0x55bc3b5a9cbc <unknown>\n#12 0x55bc3b58d392 <unknown>\n#13 0x55bc3b5aa834 <unknown>\n#14 0x55bc3b5711ef <unknown>\n#15 0x55bc3b5ce038 <unknown>\n#16 0x55bc3b5ce216 <unknown>\n#17 0x55bc3b5de896 <unknown>\n#18 0x7f5ee297eaa4 <unknown>\n#19 0x7f5ee2a0bc3c <unknown>\n",
     "output_type": "error",
     "traceback": [
      "\u001b[0;31m---------------------------------------------------------------------------\u001b[0m",
      "\u001b[0;31mNoSuchElementException\u001b[0m                    Traceback (most recent call last)",
      "Cell \u001b[0;32mIn[19], line 30\u001b[0m\n\u001b[1;32m     28\u001b[0m \u001b[38;5;66;03m# 测试\u001b[39;00m\n\u001b[1;32m     29\u001b[0m \u001b[38;5;28;01mif\u001b[39;00m \u001b[38;5;18m__name__\u001b[39m \u001b[38;5;241m==\u001b[39m \u001b[38;5;124m\"\u001b[39m\u001b[38;5;124m__main__\u001b[39m\u001b[38;5;124m\"\u001b[39m:\n\u001b[0;32m---> 30\u001b[0m     driver \u001b[38;5;241m=\u001b[39m login_vpn(\u001b[38;5;124m\"\u001b[39m\u001b[38;5;124m12424117\u001b[39m\u001b[38;5;124m\"\u001b[39m, \u001b[38;5;124m\"\u001b[39m\u001b[38;5;124mwzw1998928\u001b[39m\u001b[38;5;124m\"\u001b[39m)\n",
      "Cell \u001b[0;32mIn[19], line 13\u001b[0m, in \u001b[0;36mlogin_vpn\u001b[0;34m(username, password)\u001b[0m\n\u001b[1;32m     10\u001b[0m time\u001b[38;5;241m.\u001b[39msleep(\u001b[38;5;241m2\u001b[39m)\n\u001b[1;32m     12\u001b[0m \u001b[38;5;66;03m# 找到用户名输入框\u001b[39;00m\n\u001b[0;32m---> 13\u001b[0m user_input \u001b[38;5;241m=\u001b[39m driver\u001b[38;5;241m.\u001b[39mfind_element(By\u001b[38;5;241m.\u001b[39mID, \u001b[38;5;124m\"\u001b[39m\u001b[38;5;124musername\u001b[39m\u001b[38;5;124m\"\u001b[39m)\n\u001b[1;32m     14\u001b[0m user_input\u001b[38;5;241m.\u001b[39msend_keys(username)\n\u001b[1;32m     16\u001b[0m \u001b[38;5;66;03m# 找到密码输入框\u001b[39;00m\n",
      "File \u001b[0;32m~/anaconda3/lib/python3.12/site-packages/selenium/webdriver/remote/webdriver.py:898\u001b[0m, in \u001b[0;36mWebDriver.find_element\u001b[0;34m(self, by, value)\u001b[0m\n\u001b[1;32m    895\u001b[0m         \u001b[38;5;28;01mraise\u001b[39;00m NoSuchElementException(\u001b[38;5;124mf\u001b[39m\u001b[38;5;124m\"\u001b[39m\u001b[38;5;124mCannot locate relative element with: \u001b[39m\u001b[38;5;132;01m{\u001b[39;00mby\u001b[38;5;241m.\u001b[39mroot\u001b[38;5;132;01m}\u001b[39;00m\u001b[38;5;124m\"\u001b[39m)\n\u001b[1;32m    896\u001b[0m     \u001b[38;5;28;01mreturn\u001b[39;00m elements[\u001b[38;5;241m0\u001b[39m]\n\u001b[0;32m--> 898\u001b[0m \u001b[38;5;28;01mreturn\u001b[39;00m \u001b[38;5;28mself\u001b[39m\u001b[38;5;241m.\u001b[39mexecute(Command\u001b[38;5;241m.\u001b[39mFIND_ELEMENT, {\u001b[38;5;124m\"\u001b[39m\u001b[38;5;124musing\u001b[39m\u001b[38;5;124m\"\u001b[39m: by, \u001b[38;5;124m\"\u001b[39m\u001b[38;5;124mvalue\u001b[39m\u001b[38;5;124m\"\u001b[39m: value})[\u001b[38;5;124m\"\u001b[39m\u001b[38;5;124mvalue\u001b[39m\u001b[38;5;124m\"\u001b[39m]\n",
      "File \u001b[0;32m~/anaconda3/lib/python3.12/site-packages/selenium/webdriver/remote/webdriver.py:429\u001b[0m, in \u001b[0;36mWebDriver.execute\u001b[0;34m(self, driver_command, params)\u001b[0m\n\u001b[1;32m    427\u001b[0m response \u001b[38;5;241m=\u001b[39m \u001b[38;5;28mself\u001b[39m\u001b[38;5;241m.\u001b[39mcommand_executor\u001b[38;5;241m.\u001b[39mexecute(driver_command, params)\n\u001b[1;32m    428\u001b[0m \u001b[38;5;28;01mif\u001b[39;00m response:\n\u001b[0;32m--> 429\u001b[0m     \u001b[38;5;28mself\u001b[39m\u001b[38;5;241m.\u001b[39merror_handler\u001b[38;5;241m.\u001b[39mcheck_response(response)\n\u001b[1;32m    430\u001b[0m     response[\u001b[38;5;124m\"\u001b[39m\u001b[38;5;124mvalue\u001b[39m\u001b[38;5;124m\"\u001b[39m] \u001b[38;5;241m=\u001b[39m \u001b[38;5;28mself\u001b[39m\u001b[38;5;241m.\u001b[39m_unwrap_value(response\u001b[38;5;241m.\u001b[39mget(\u001b[38;5;124m\"\u001b[39m\u001b[38;5;124mvalue\u001b[39m\u001b[38;5;124m\"\u001b[39m, \u001b[38;5;28;01mNone\u001b[39;00m))\n\u001b[1;32m    431\u001b[0m     \u001b[38;5;28;01mreturn\u001b[39;00m response\n",
      "File \u001b[0;32m~/anaconda3/lib/python3.12/site-packages/selenium/webdriver/remote/errorhandler.py:232\u001b[0m, in \u001b[0;36mErrorHandler.check_response\u001b[0;34m(self, response)\u001b[0m\n\u001b[1;32m    230\u001b[0m         alert_text \u001b[38;5;241m=\u001b[39m value[\u001b[38;5;124m\"\u001b[39m\u001b[38;5;124malert\u001b[39m\u001b[38;5;124m\"\u001b[39m]\u001b[38;5;241m.\u001b[39mget(\u001b[38;5;124m\"\u001b[39m\u001b[38;5;124mtext\u001b[39m\u001b[38;5;124m\"\u001b[39m)\n\u001b[1;32m    231\u001b[0m     \u001b[38;5;28;01mraise\u001b[39;00m exception_class(message, screen, stacktrace, alert_text)  \u001b[38;5;66;03m# type: ignore[call-arg]  # mypy is not smart enough here\u001b[39;00m\n\u001b[0;32m--> 232\u001b[0m \u001b[38;5;28;01mraise\u001b[39;00m exception_class(message, screen, stacktrace)\n",
      "\u001b[0;31mNoSuchElementException\u001b[0m: Message: no such element: Unable to locate element: {\"method\":\"css selector\",\"selector\":\"[id=\"username\"]\"}\n  (Session info: chrome=134.0.6998.88); For documentation on this error, please visit: https://www.selenium.dev/documentation/webdriver/troubleshooting/errors#no-such-element-exception\nStacktrace:\n#0 0x55bc3b5dfa1a <unknown>\n#1 0x55bc3b097390 <unknown>\n#2 0x55bc3b0e8c85 <unknown>\n#3 0x55bc3b0e8eb1 <unknown>\n#4 0x55bc3b137d64 <unknown>\n#5 0x55bc3b10ebfd <unknown>\n#6 0x55bc3b13507b <unknown>\n#7 0x55bc3b10e9a3 <unknown>\n#8 0x55bc3b0da60e <unknown>\n#9 0x55bc3b0dbdd1 <unknown>\n#10 0x55bc3b5a5ddb <unknown>\n#11 0x55bc3b5a9cbc <unknown>\n#12 0x55bc3b58d392 <unknown>\n#13 0x55bc3b5aa834 <unknown>\n#14 0x55bc3b5711ef <unknown>\n#15 0x55bc3b5ce038 <unknown>\n#16 0x55bc3b5ce216 <unknown>\n#17 0x55bc3b5de896 <unknown>\n#18 0x7f5ee297eaa4 <unknown>\n#19 0x7f5ee2a0bc3c <unknown>\n"
     ]
    }
   ],
   "source": [
    "from selenium import webdriver\n",
    "from selenium.webdriver.common.by import By\n",
    "from selenium.webdriver.common.keys import Keys\n",
    "import time\n",
    "\n",
    "def login_vpn(username, password):\n",
    "    driver = webdriver.Chrome()  # 你也可以使用 Firefox()\n",
    "    driver.get(\"https://myvpn.zju.edu.cn\")\n",
    "\n",
    "    time.sleep(2)\n",
    "    \n",
    "    # 找到用户名输入框\n",
    "    user_input = driver.find_element(By.ID, \"username\")\n",
    "    user_input.send_keys(username)\n",
    "\n",
    "    # 找到密码输入框\n",
    "    password_input = driver.find_element(By.ID, \"password\")\n",
    "    password_input.send_keys(password)\n",
    "    \n",
    "    # 模拟回车\n",
    "    password_input.send_keys(Keys.RETURN)\n",
    "\n",
    "    time.sleep(5)  # 等待 VPN 连接成功\n",
    "    print(\"✅ VPN 登录成功\")\n",
    "\n",
    "    return driver  # 你可以保持 VPN 连接\n",
    "\n",
    "# 测试\n",
    "if __name__ == \"__main__\":\n",
    "    driver = login_vpn(\"12424117\", \"wzw1998928\")\n"
   ]
  },
  {
   "cell_type": "code",
   "execution_count": 18,
   "id": "7c01cfac-57a1-4463-8f90-ecd83f68225a",
   "metadata": {},
   "outputs": [
    {
     "name": "stdout",
     "output_type": "stream",
     "text": [
      "Collecting selenium\n",
      "  Downloading selenium-4.29.0-py3-none-any.whl.metadata (7.1 kB)\n",
      "Requirement already satisfied: urllib3<3,>=1.26 in /home/wangz/anaconda3/lib/python3.12/site-packages (from urllib3[socks]<3,>=1.26->selenium) (2.2.3)\n",
      "Collecting trio~=0.17 (from selenium)\n",
      "  Downloading trio-0.29.0-py3-none-any.whl.metadata (8.5 kB)\n",
      "Collecting trio-websocket~=0.9 (from selenium)\n",
      "  Downloading trio_websocket-0.12.2-py3-none-any.whl.metadata (5.1 kB)\n",
      "Requirement already satisfied: certifi>=2021.10.8 in /home/wangz/anaconda3/lib/python3.12/site-packages (from selenium) (2024.8.30)\n",
      "Requirement already satisfied: typing_extensions~=4.9 in /home/wangz/anaconda3/lib/python3.12/site-packages (from selenium) (4.11.0)\n",
      "Requirement already satisfied: websocket-client~=1.8 in /home/wangz/anaconda3/lib/python3.12/site-packages (from selenium) (1.8.0)\n",
      "Collecting attrs>=23.2.0 (from trio~=0.17->selenium)\n",
      "  Downloading attrs-25.1.0-py3-none-any.whl.metadata (10 kB)\n",
      "Requirement already satisfied: sortedcontainers in /home/wangz/anaconda3/lib/python3.12/site-packages (from trio~=0.17->selenium) (2.4.0)\n",
      "Requirement already satisfied: idna in /home/wangz/anaconda3/lib/python3.12/site-packages (from trio~=0.17->selenium) (3.7)\n",
      "Collecting outcome (from trio~=0.17->selenium)\n",
      "  Downloading outcome-1.3.0.post0-py2.py3-none-any.whl.metadata (2.6 kB)\n",
      "Requirement already satisfied: sniffio>=1.3.0 in /home/wangz/anaconda3/lib/python3.12/site-packages (from trio~=0.17->selenium) (1.3.0)\n",
      "Collecting wsproto>=0.14 (from trio-websocket~=0.9->selenium)\n",
      "  Downloading wsproto-1.2.0-py3-none-any.whl.metadata (5.6 kB)\n",
      "Requirement already satisfied: pysocks!=1.5.7,<2.0,>=1.5.6 in /home/wangz/anaconda3/lib/python3.12/site-packages (from urllib3[socks]<3,>=1.26->selenium) (1.7.1)\n",
      "Requirement already satisfied: h11<1,>=0.9.0 in /home/wangz/anaconda3/lib/python3.12/site-packages (from wsproto>=0.14->trio-websocket~=0.9->selenium) (0.14.0)\n",
      "Downloading selenium-4.29.0-py3-none-any.whl (9.5 MB)\n",
      "\u001b[2K   \u001b[90m━━━━━━━━━━━━━━━━━━━━━━━━━━━━━━━━━━━━━━━━\u001b[0m \u001b[32m9.5/9.5 MB\u001b[0m \u001b[31m1.0 MB/s\u001b[0m eta \u001b[36m0:00:00\u001b[0meta \u001b[36m0:00:01\u001b[0m\n",
      "\u001b[?25hDownloading trio-0.29.0-py3-none-any.whl (492 kB)\n",
      "Downloading trio_websocket-0.12.2-py3-none-any.whl (21 kB)\n",
      "Downloading attrs-25.1.0-py3-none-any.whl (63 kB)\n",
      "Downloading outcome-1.3.0.post0-py2.py3-none-any.whl (10 kB)\n",
      "Downloading wsproto-1.2.0-py3-none-any.whl (24 kB)\n",
      "Installing collected packages: wsproto, attrs, outcome, trio, trio-websocket, selenium\n",
      "  Attempting uninstall: attrs\n",
      "    Found existing installation: attrs 23.1.0\n",
      "    Uninstalling attrs-23.1.0:\n",
      "      Successfully uninstalled attrs-23.1.0\n",
      "Successfully installed attrs-25.1.0 outcome-1.3.0.post0 selenium-4.29.0 trio-0.29.0 trio-websocket-0.12.2 wsproto-1.2.0\n"
     ]
    }
   ],
   "source": [
    "!pip install selenium"
   ]
  },
  {
   "cell_type": "code",
   "execution_count": null,
   "id": "30acb897-fe78-471b-b0ac-4914756d504d",
   "metadata": {},
   "outputs": [],
   "source": []
  }
 ],
 "metadata": {
  "kernelspec": {
   "display_name": "Python 3 (ipykernel)",
   "language": "python",
   "name": "python3"
  },
  "language_info": {
   "codemirror_mode": {
    "name": "ipython",
    "version": 3
   },
   "file_extension": ".py",
   "mimetype": "text/x-python",
   "name": "python",
   "nbconvert_exporter": "python",
   "pygments_lexer": "ipython3",
   "version": "3.12.7"
  }
 },
 "nbformat": 4,
 "nbformat_minor": 5
}
