{
 "cells": [
  {
   "cell_type": "code",
   "execution_count": 1,
   "id": "1622d817-a105-465c-91cb-fca63f2b6a6d",
   "metadata": {},
   "outputs": [
    {
     "name": "stdout",
     "output_type": "stream",
     "text": [
      "❌ 连接失败：[sudo] password for wangz: Sorry, try again.\n",
      "[sudo] password for wangz: Sorry, try again.\n",
      "[sudo] password for wangz: \n",
      "sudo: no password was provided\n",
      "sudo: 2 incorrect password attempts\n",
      "\n",
      "测试结果: False\n"
     ]
    }
   ],
   "source": [
    "# test_vpn.py\n",
    "import subprocess\n",
    "\n",
    "class VPNConnector:\n",
    "    def connect(self, username, password):\n",
    "        cmd = [\n",
    "            \"sudo\", \"-S\", \"openconnect\", \n",
    "            \"vpn.zju.edu.cn\", \n",
    "            \"-u\", username, \n",
    "            \"--passwd-on-stdin\"\n",
    "        ]\n",
    "        try:\n",
    "            proc = subprocess.Popen(\n",
    "                cmd,\n",
    "                stdin=subprocess.PIPE,\n",
    "                stdout=subprocess.PIPE,\n",
    "                stderr=subprocess.PIPE,\n",
    "                text=True\n",
    "            )\n",
    "            # 发送sudo密码 + VPN密码\n",
    "            output, error = proc.communicate(f\"{password}\\n{password}\\n\")\n",
    "            \n",
    "            if proc.returncode == 0:\n",
    "                print(\"✅ VPN连接成功\")\n",
    "                return True\n",
    "            else:\n",
    "                print(f\"❌ 连接失败：{error}\")\n",
    "                return False\n",
    "        except Exception as e:\n",
    "            print(f\"⚠️ 异常：{str(e)}\")\n",
    "            return False\n",
    "\n",
    "# 测试用例\n",
    "if __name__ == \"__main__\":\n",
    "    vpn = VPNConnector()\n",
    "    result = vpn.connect(\"your_username\", \"your_password\")\n",
    "    print(\"测试结果:\", result)"
   ]
  },
  {
   "cell_type": "code",
   "execution_count": null,
   "id": "5158db54-d449-4d4c-800f-de2386a94665",
   "metadata": {},
   "outputs": [],
   "source": []
  }
 ],
 "metadata": {
  "kernelspec": {
   "display_name": "Python 3 (ipykernel)",
   "language": "python",
   "name": "python3"
  },
  "language_info": {
   "codemirror_mode": {
    "name": "ipython",
    "version": 3
   },
   "file_extension": ".py",
   "mimetype": "text/x-python",
   "name": "python",
   "nbconvert_exporter": "python",
   "pygments_lexer": "ipython3",
   "version": "3.12.7"
  }
 },
 "nbformat": 4,
 "nbformat_minor": 5
}
