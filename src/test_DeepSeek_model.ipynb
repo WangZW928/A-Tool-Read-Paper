{
 "cells": [
  {
   "cell_type": "code",
   "execution_count": null,
   "id": "1b04af8e-1f06-47bb-bba5-f26641b665dd",
   "metadata": {},
   "outputs": [],
   "source": [
    "# test_deepseek.py\n",
    "import httpx\n",
    "\n",
    "def test_api(api_key):\n",
    "    response = httpx.post(\n",
    "        \"https://api.deepseek.com/v1/chat/completions\",\n",
    "        headers={\"Authorization\": f\"Bearer {api_key}\"},\n",
    "        json={\n",
    "            \"model\": \"deepseek-chat\",\n",
    "            \"messages\": [{\n",
    "                \"role\": \"user\",\n",
    "                \"content\": \"请用一句话证明API可用\"\n",
    "            }]\n",
    "        }\n",
    "    )\n",
    "    print(\"状态码:\", response.status_code)\n",
    "    print(\"响应:\", response.json())\n",
    "\n",
    "if __name__ == \"__main__\":\n",
    "    test_api(\"your_api_key_here\")"
   ]
  }
 ],
 "metadata": {
  "kernelspec": {
   "display_name": "Python 3 (ipykernel)",
   "language": "python",
   "name": "python3"
  },
  "language_info": {
   "codemirror_mode": {
    "name": "ipython",
    "version": 3
   },
   "file_extension": ".py",
   "mimetype": "text/x-python",
   "name": "python",
   "nbconvert_exporter": "python",
   "pygments_lexer": "ipython3",
   "version": "3.12.7"
  }
 },
 "nbformat": 4,
 "nbformat_minor": 5
}
