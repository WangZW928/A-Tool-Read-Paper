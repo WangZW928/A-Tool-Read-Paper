{
 "cells": [
  {
   "cell_type": "code",
   "execution_count": 1,
   "id": "430b4a59-8f91-481e-ae21-871b51041b8a",
   "metadata": {},
   "outputs": [
    {
     "name": "stdout",
     "output_type": "stream",
     "text": [
      "* Running on local URL:  http://127.0.0.1:7863\n",
      "\n",
      "To create a public link, set `share=True` in `launch()`.\n"
     ]
    },
    {
     "data": {
      "text/html": [
       "<div><iframe src=\"http://127.0.0.1:7863/\" width=\"100%\" height=\"500\" allow=\"autoplay; camera; microphone; clipboard-read; clipboard-write;\" frameborder=\"0\" allowfullscreen></iframe></div>"
      ],
      "text/plain": [
       "<IPython.core.display.HTML object>"
      ]
     },
     "metadata": {},
     "output_type": "display_data"
    }
   ],
   "source": [
    "# test_gradio.py\n",
    "import gradio as gr\n",
    "\n",
    "def mock_ui():\n",
    "    with gr.Blocks() as demo:\n",
    "        paper_store = gr.State([])\n",
    "        \n",
    "        with gr.Row():\n",
    "            selector = gr.Dropdown([\"测试论文1\", \"测试论文2\"], label=\"论文选择\")\n",
    "            btn = gr.Button(\"分析\")\n",
    "        \n",
    "        output = gr.Markdown()\n",
    "        \n",
    "        btn.click(\n",
    "            lambda x: f\"分析结果：{x}\",\n",
    "            inputs=selector,\n",
    "            outputs=output\n",
    "        )\n",
    "    \n",
    "    return demo\n",
    "\n",
    "if __name__ == \"__main__\":\n",
    "    mock_ui().launch()"
   ]
  },
  {
   "cell_type": "code",
   "execution_count": null,
   "id": "9828106a-5f5d-4845-a827-a17c32507e51",
   "metadata": {},
   "outputs": [],
   "source": []
  }
 ],
 "metadata": {
  "kernelspec": {
   "display_name": "Python 3 (ipykernel)",
   "language": "python",
   "name": "python3"
  },
  "language_info": {
   "codemirror_mode": {
    "name": "ipython",
    "version": 3
   },
   "file_extension": ".py",
   "mimetype": "text/x-python",
   "name": "python",
   "nbconvert_exporter": "python",
   "pygments_lexer": "ipython3",
   "version": "3.12.7"
  }
 },
 "nbformat": 4,
 "nbformat_minor": 5
}
