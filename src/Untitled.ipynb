{
 "cells": [
  {
   "cell_type": "code",
   "execution_count": 1,
   "id": "8b15d908-4252-4477-a2a6-d71a79939eb1",
   "metadata": {},
   "outputs": [],
   "source": [
    "# 我想做一个小程序来帮我阅读论文\n",
    "# 我的个人情况\n",
    "# 1.我是一个物理专业的博士生\n",
    "# 2.我有阅读论文的习惯\n",
    "# 我的个人需求\n",
    "# 1.程序可以接入我们学校的VPN（类似于easy connnect）从而具备期刊论文的访问权限\n",
    "# 2.程序可以访问Deepseek，我个人提供账号和密码，从而完成和论文的沟通, 问答\n",
    "# 3.最好能装载到chatbox上面,或者有类似的可视化对话平台\n",
    "# 4.我个人对Python比较熟练,所以希望程序的功能能用python实现但是如果c++是必要的,我也可以,我懂一点c++\n",
    "# 5.如果论文有开源的代码请注明代码链接\n",
    "# 程序应该具有的功能(流程式)\n",
    "# 1.输入自己学校的VPN账号密码\n",
    "# 2.输入自己的DeepSeek账号密码\n",
    "# 3.选择需要浏览的期刊,我一般就喜欢浏览这些期刊: PANS,Nature,Science,PRL,JCP,JFM,PRF,这些期刊我的学校都有访问权限，以我写的这些简写进行输入\n",
    "# 4.选择模式?初步尝试这三种模式:a.新文推荐(列出来以n天为周期的最新文章，列出文章的名称，作者，摘要，是否细读，下载？),这里细读是将整篇文章给deepseek,返回deepseek的回复,下载是下载到具体的本地位置\n",
    "# b.关键词搜索(这个功能期刊主页就有，我觉得我们借用就好，列出文章的名称，作者，摘要，是否细读，下载？)\n",
    "# c.好文推荐: 列出来被编辑建议,或者高被引(这个我可以设置：比如时间范围和引用范围，就算高被引文章),列出文章的名称，作者，摘要，是否细读，下载？\n",
    "# 5.我觉得细读功能可以直接打开于deep seek的聊天框?我没有想好\n",
    "\n",
    "#具体的想法就这些,我的本意是涉及一个工具来帮助我省力读论文的工具,所以我希望这个程序尽量快,实现上最好能简便.当然如果我还有什么是我没有想到,或者想的不够充分的,也请及时和我沟通。\n"
   ]
  },
  {
   "cell_type": "markdown",
   "id": "cc571b06-0280-4b20-ad04-0f189e1c3070",
   "metadata": {},
   "source": [
    "graph TD\n",
    "    A[用户界面] --> B[控制中心]\n",
    "    B --> C[VPN模块]\n",
    "    B --> D[期刊爬取模块]\n",
    "    B --> E[DeepSeek交互模块]\n",
    "    B --> F[本地存储模块]"
   ]
  },
  {
   "cell_type": "code",
   "execution_count": 1,
   "id": "e6254495-34fa-474c-89f7-93e5e4446267",
   "metadata": {},
   "outputs": [],
   "source": [
    "import subprocess\n",
    "import requests\n",
    "from bs4 import BeautifulSoup"
   ]
  },
  {
   "cell_type": "code",
   "execution_count": 2,
   "id": "3ea08bbf-0a1c-499c-8f90-14a6dcbaefb5",
   "metadata": {},
   "outputs": [],
   "source": [
    "# 1. 连接 VPN\n",
    "def connect_vpn(username, password, vpn_server=\"rvpn.zju.edu.cn\"):\n",
    "    vpn_cmd = f\"echo {password} | easyconnect -u {username} -s {vpn_server}\"\n",
    "    try:\n",
    "        subprocess.run(vpn_cmd, shell=True, check=True)\n",
    "        print(\"VPN 已成功连接！\")\n",
    "    except subprocess.CalledProcessError:\n",
    "        print(\"VPN 连接失败！\")"
   ]
  },
  {
   "cell_type": "code",
   "execution_count": 3,
   "id": "8e06e61b-037f-4f62-9b83-a1a47f6740f6",
   "metadata": {},
   "outputs": [],
   "source": [
    "# 2. 获取 PRL 期刊文章\n",
    "def fetch_prl_articles():\n",
    "    url = \"https://journals.aps.org/prl/\"\n",
    "    response = requests.get(url)\n",
    "    soup = BeautifulSoup(response.text, \"html.parser\")\n",
    "\n",
    "    articles = []\n",
    "    for article in soup.select(\".highwire-cite-title\"):\n",
    "        title = article.text.strip()\n",
    "        link = article.find(\"a\")[\"href\"]\n",
    "        articles.append({\"title\": title, \"link\": link})\n",
    "    return articles\n"
   ]
  },
  {
   "cell_type": "code",
   "execution_count": 4,
   "id": "79528c15-07a2-4313-92a2-6a00ee5c0546",
   "metadata": {},
   "outputs": [],
   "source": [
    "# 3. DeepSeek AI 阅读\n",
    "def ask_deepseek(api_key, paper_text):\n",
    "    url = \"https://deepseek.ai/api/chat\"\n",
    "    headers = {\"Authorization\": f\"Bearer {api_key}\"}\n",
    "    data = {\"query\": paper_text}\n",
    "\n",
    "    response = requests.post(url, headers=headers, json=data)\n",
    "    return response.json().get(\"response\", \"没有得到回复\")"
   ]
  },
  {
   "cell_type": "code",
   "execution_count": null,
   "id": "d08b7ae7-f6f3-49e0-8126-78fe0e1d1c9d",
   "metadata": {},
   "outputs": [
    {
     "name": "stdin",
     "output_type": "stream",
     "text": [
      "请输入 VPN 用户名:  12424117\n",
      "请输入 VPN 密码:  wzw1998928\n"
     ]
    },
    {
     "name": "stderr",
     "output_type": "stream",
     "text": [
      "/bin/sh: 1: easyconnect: not found\n"
     ]
    },
    {
     "name": "stdout",
     "output_type": "stream",
     "text": [
      "VPN 连接失败！\n",
      "\n",
      "正在获取 PRL 期刊的最新文章...\n",
      "\n"
     ]
    }
   ],
   "source": [
    "# 主程序\n",
    "def main():\n",
    "    # 输入 VPN 信息\n",
    "    username = input(\"请输入 VPN 用户名: \")\n",
    "    password = input(\"请输入 VPN 密码: \")\n",
    "    connect_vpn(username, password)\n",
    "\n",
    "    # 获取 PRL 文章\n",
    "    print(\"\\n正在获取 PRL 期刊的最新文章...\\n\")\n",
    "    articles = fetch_prl_articles()\n",
    "    for idx, article in enumerate(articles, 1):\n",
    "        print(f\"{idx}. {article['title']} - {article['link']}\")\n",
    "    \n",
    "    # 选择一篇文章\n",
    "    article_idx = int(input(\"\\n选择一篇文章（输入文章编号）：\")) - 1\n",
    "    selected_article = articles[article_idx]\n",
    "    print(f\"\\n你选择的文章是：{selected_article['title']}\")\n",
    "    article_link = selected_article[\"link\"]\n",
    "    \n",
    "    # 这里我们可以模拟抓取文章内容（实际中可能需要额外爬虫来获取文章全文）\n",
    "    paper_text = \"从文章中提取的文本内容\"  # 假设你从文章链接中抓取到了全文文本\n",
    "\n",
    "    # 输入 DeepSeek API Key\n",
    "    api_key = input(\"\\n请输入你的 DeepSeek API Key: \")\n",
    "\n",
    "    # 提交到 DeepSeek\n",
    "    print(\"\\n正在向 DeepSeek 提交文章内容...\")\n",
    "    deepseek_response = ask_deepseek(api_key, paper_text)\n",
    "    print(f\"\\nDeepSeek 回复：{deepseek_response}\")\n",
    "\n",
    "if __name__ == \"__main__\":\n",
    "    main()"
   ]
  },
  {
   "cell_type": "code",
   "execution_count": null,
   "id": "6e519f67-b79f-4ae0-849d-937ac396ac1c",
   "metadata": {},
   "outputs": [],
   "source": []
  }
 ],
 "metadata": {
  "kernelspec": {
   "display_name": "Python 3 (ipykernel)",
   "language": "python",
   "name": "python3"
  },
  "language_info": {
   "codemirror_mode": {
    "name": "ipython",
    "version": 3
   },
   "file_extension": ".py",
   "mimetype": "text/x-python",
   "name": "python",
   "nbconvert_exporter": "python",
   "pygments_lexer": "ipython3",
   "version": "3.12.7"
  }
 },
 "nbformat": 4,
 "nbformat_minor": 5
}
