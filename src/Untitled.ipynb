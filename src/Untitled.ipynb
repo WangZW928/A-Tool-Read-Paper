{
 "cells": [
  {
   "cell_type": "code",
   "execution_count": 1,
   "id": "8b15d908-4252-4477-a2a6-d71a79939eb1",
   "metadata": {},
   "outputs": [],
   "source": [
    "# 我想做一个小程序来帮我阅读论文\n",
    "# 我的个人情况\n",
    "# 1.我是一个物理专业的博士生\n",
    "# 2.我有阅读论文的习惯\n",
    "# 我的个人需求\n",
    "# 1.程序可以接入我们学校的VPN（类似于easy connnect）从而具备期刊论文的访问权限\n",
    "# 2.程序可以访问Deepseek，我个人提供账号和密码，从而完成和论文的沟通, 问答\n",
    "# 3.最好能装载到chatbox上面,或者有类似的可视化对话平台\n",
    "# 4.我个人对Python比较熟练,所以希望程序的功能能用python实现但是如果c++是必要的,我也可以,我懂一点c++\n",
    "# 5.如果论文有开源的代码请注明代码链接\n",
    "# 程序应该具有的功能(流程式)\n",
    "# 1.输入自己学校的VPN账号密码\n",
    "# 2.输入自己的DeepSeek账号密码\n",
    "# 3.选择需要浏览的期刊,我一般就喜欢浏览这些期刊: PANS,Nature,Science,PRL,JCP,JFM,PRF,这些期刊我的学校都有访问权限，以我写的这些简写进行输入\n",
    "# 4.选择模式?初步尝试这三种模式:a.新文推荐(列出来以n天为周期的最新文章，列出文章的名称，作者，摘要，是否细读，下载？),这里细读是将整篇文章给deepseek,返回deepseek的回复,下载是下载到具体的本地位置\n",
    "# b.关键词搜索(这个功能期刊主页就有，我觉得我们借用就好，列出文章的名称，作者，摘要，是否细读，下载？)\n",
    "# c.好文推荐: 列出来被编辑建议,或者高被引(这个我可以设置：比如时间范围和引用范围，就算高被引文章),列出文章的名称，作者，摘要，是否细读，下载？\n",
    "# 5.我觉得细读功能可以直接打开于deep seek的聊天框?我没有想好\n",
    "\n",
    "#具体的想法就这些,我的本意是涉及一个工具来帮助我省力读论文的工具,所以我希望这个程序尽量快,实现上最好能简便.当然如果我还有什么是我没有想到,或者想的不够充分的,也请及时和我沟通。\n"
   ]
  },
  {
   "cell_type": "code",
   "execution_count": 2,
   "id": "45e583da-8af8-473b-8eb9-09c6d2e28be6",
   "metadata": {},
   "outputs": [
    {
     "ename": "SyntaxError",
     "evalue": "invalid syntax (4286758737.py, line 1)",
     "output_type": "error",
     "traceback": [
      "\u001b[0;36m  Cell \u001b[0;32mIn[2], line 1\u001b[0;36m\u001b[0m\n\u001b[0;31m    graph TD\u001b[0m\n\u001b[0m          ^\u001b[0m\n\u001b[0;31mSyntaxError\u001b[0m\u001b[0;31m:\u001b[0m invalid syntax\n"
     ]
    }
   ],
   "source": [
    "graph TD\n",
    "    A[用户界面] --> B[控制中心]\n",
    "    B --> C[VPN模块]\n",
    "    B --> D[期刊爬取模块]\n",
    "    B --> E[DeepSeek交互模块]\n",
    "    B --> F[本地存储模块]"
   ]
  },
  {
   "cell_type": "code",
   "execution_count": null,
   "id": "d08b7ae7-f6f3-49e0-8126-78fe0e1d1c9d",
   "metadata": {},
   "outputs": [],
   "source": []
  }
 ],
 "metadata": {
  "kernelspec": {
   "display_name": "Python 3 (ipykernel)",
   "language": "python",
   "name": "python3"
  },
  "language_info": {
   "codemirror_mode": {
    "name": "ipython",
    "version": 3
   },
   "file_extension": ".py",
   "mimetype": "text/x-python",
   "name": "python",
   "nbconvert_exporter": "python",
   "pygments_lexer": "ipython3",
   "version": "3.12.7"
  }
 },
 "nbformat": 4,
 "nbformat_minor": 5
}
