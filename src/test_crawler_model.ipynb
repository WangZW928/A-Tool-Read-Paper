{
 "cells": [
  {
   "cell_type": "code",
   "execution_count": null,
   "id": "240919eb-27e3-4dce-affa-cda66e2d0802",
   "metadata": {},
   "outputs": [],
   "source": [
    "# test_crawler.py\n",
    "from playwright.sync_api import sync_playwright\n",
    "\n",
    "def debug_crawler():\n",
    "    with sync_playwright() as p:\n",
    "        # 启动可视化浏览器\n",
    "        browser = p.chromium.launch(headless=False)\n",
    "        context = browser.new_context()\n",
    "        page = context.new_page()\n",
    "        \n",
    "        try:\n",
    "            # 录制操作\n",
    "            page.goto(\"https://www.sciencedirect.com/journal/journal-of-computational-physics\")\n",
    "            page.wait_for_timeout(3000)  # 手动观察页面\n",
    "            \n",
    "            # 验证选择器\n",
    "            test_selector = \"article\"\n",
    "            elements = page.query_selector_all(test_selector)\n",
    "            print(f\"找到 {len(elements)} 篇文章\")\n",
    "            \n",
    "            # 导出页面快照\n",
    "            page.screenshot(path=\"debug_screenshot.png\")\n",
    "            with open(\"debug_page.html\", \"w\") as f:\n",
    "                f.write(page.content())\n",
    "                \n",
    "        finally:\n",
    "            browser.close()\n",
    "\n",
    "if __name__ == \"__main__\":\n",
    "    debug_crawler()"
   ]
  }
 ],
 "metadata": {
  "kernelspec": {
   "display_name": "Python 3 (ipykernel)",
   "language": "python",
   "name": "python3"
  },
  "language_info": {
   "codemirror_mode": {
    "name": "ipython",
    "version": 3
   },
   "file_extension": ".py",
   "mimetype": "text/x-python",
   "name": "python",
   "nbconvert_exporter": "python",
   "pygments_lexer": "ipython3",
   "version": "3.12.7"
  }
 },
 "nbformat": 4,
 "nbformat_minor": 5
}
